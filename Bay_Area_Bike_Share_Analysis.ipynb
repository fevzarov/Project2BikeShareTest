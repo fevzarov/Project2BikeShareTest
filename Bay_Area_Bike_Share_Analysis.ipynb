{
 "cells": [
  {
   "cell_type": "markdown",
   "metadata": {},
   "source": [
    "# Bay Area Bike Share Analysis\n",
    "\n",
    "## Introduction\n",
    "\n",
    "> **Tip**: Quoted sections like this will provide helpful instructions on how to navigate and use an iPython notebook.\n",
    "\n",
    "[Bay Area Bike Share](http://www.bayareabikeshare.com/) is a company that provides on-demand bike rentals for customers in San Francisco, Redwood City, Palo Alto, Mountain View, and San Jose. Users can unlock bikes from a variety of stations throughout each city, and return them to any station within the same city. Users pay for the service either through a yearly subscription or by purchasing 3-day or 24-hour passes. Users can make an unlimited number of trips, with trips under thirty minutes in length having no additional charge; longer trips will incur overtime fees.\n",
    "\n",
    "In this project, you will put yourself in the shoes of a data analyst performing an exploratory analysis on the data. You will take a look at two of the major parts of the data analysis process: data wrangling and exploratory data analysis. But before you even start looking at data, think about some questions you might want to understand about the bike share data. Consider, for example, if you were working for Bay Area Bike Share: what kinds of information would you want to know about in order to make smarter business decisions? Or you might think about if you were a user of the bike share service. What factors might influence how you would want to use the service?\n",
    "\n",
    "**Question 1**: Write at least two questions you think could be answered by data.\n",
    "\n",
    "**Answer**: What are the optimum number of bikes, bike rack, and pricing fo the highers profit? What are the factors related to bike rentals?\n",
    "\n",
    "> **Tip**: If you double click on this cell, you will see the text change so that all of the formatting is removed. This allows you to edit this block of text. This block of text is written using [Markdown](http://daringfireball.net/projects/markdown/syntax), which is a way to format text using headers, links, italics, and many other options. You will learn more about Markdown later in the Nanodegree Program. Hit **Shift** + **Enter** or **Shift** + **Return**."
   ]
  },
  {
   "cell_type": "markdown",
   "metadata": {},
   "source": [
    "## Using Visualizations to Communicate Findings in Data\n",
    "\n",
    "As a data analyst, the ability to effectively communicate findings is a key part of the job. After all, your best analysis is only as good as your ability to communicate it.\n",
    "\n",
    "In 2014, Bay Area Bike Share held an [Open Data Challenge](http://www.bayareabikeshare.com/datachallenge-2014) to encourage data analysts to create visualizations based on their open data set. You’ll create your own visualizations in this project, but first, take a look at the [submission winner for Best Analysis](http://thfield.github.io/babs/index.html) from Tyler Field. Read through the entire report to answer the following question:\n",
    "\n",
    "**Question 2**: What visualizations do you think provide the most interesting insights? Are you able to answer either of the questions you identified above based on Tyler’s analysis? Why or why not?\n",
    "\n",
    "**Answer**: The most intereting chart is the interactive chart for numbers of rides over time. The chart provides clues on factors related to bike use such as weather, 49ers (home) game,  Giants, Sharks game, other big events, weekday vs. weekends vs. holiday, and month (which may be a proxy for temperature).\n",
    "I am not able to adequately answer both questions that I presented. It takes more than descriptive statistics or visualization to pinpoint the forementioned optimum levels and to determine variables as factors. Though, Tyler's analysis was a great starting point to explain and visualize overall picture. For instance, I can identify variables that are very likely related to rides. I need to confirm it and clean out the analyses to obtain the cleaner relationship or cause-and-effect marginal effect (if any) between these variables and variables of interest."
   ]
  },
  {
   "cell_type": "markdown",
   "metadata": {},
   "source": [
    "## Data Wrangling\n",
    "\n",
    "Now it's time to explore the data for yourself. Year 1 and Year 2 data from the Bay Area Bike Share's [Open Data](http://www.bayareabikeshare.com/open-data) page have already been provided with the project materials; you don't need to download anything extra. The data comes in three parts: the first half of Year 1 (files starting `201402`), the second half of Year 1 (files starting `201408`), and all of Year 2 (files starting `201508`). There are three main datafiles associated with each part: trip data showing information about each trip taken in the system (`*_trip_data.csv`), information about the stations in the system (`*_station_data.csv`), and daily weather data for each city in the system (`*_weather_data.csv`).\n",
    "\n",
    "When dealing with a lot of data, it can be useful to start by working with only a sample of the data. This way, it will be much easier to check that our data wrangling steps are working since our code will take less time to complete. Once we are satisfied with the way things are working, we can then set things up to work on the dataset as a whole.\n",
    "\n",
    "Since the bulk of the data is contained in the trip information, we should target looking at a subset of the trip data to help us get our bearings. You'll start by looking at only the first month of the bike trip data, from 2013-08-29 to 2013-09-30. The code below will take the data from the first half of the first year, then write the first month's worth of data to an output file. This code exploits the fact that the data is sorted by date (though it should be noted that the first two days are sorted by trip time, rather than being completely chronological).\n",
    "\n",
    "First, load all of the packages and functions that you'll be using in your analysis by running the first code cell below. Then, run the second code cell to read a subset of the first trip data file, and write a new file containing just the subset we are initially interested in.\n",
    "\n",
    "> **Tip**: You can run a code cell like you formatted Markdown cells by clicking on the cell and using the keyboard shortcut **Shift** + **Enter** or **Shift** + **Return**. Alternatively, a code cell can be executed using the **Play** button in the toolbar after selecting it. While the cell is running, you will see an asterisk in the message to the left of the cell, i.e. `In [*]:`. The asterisk will change into a number to show that execution has completed, e.g. `In [1]`. If there is output, it will show up as `Out [1]:`, with an appropriate number to match the \"In\" number."
   ]
  },
  {
   "cell_type": "code",
   "execution_count": 2,
   "metadata": {},
   "outputs": [],
   "source": [
    "# import all necessary packages and functions.\n",
    "import csv\n",
    "from datetime import datetime\n",
    "import numpy as np\n",
    "import pandas as pd\n",
    "from babs_datacheck import question_3\n",
    "from babs_visualizations import usage_stats, usage_plot\n",
    "from IPython.display import display\n",
    "%matplotlib inline"
   ]
  },
  {
   "cell_type": "code",
   "execution_count": 3,
   "metadata": {
    "collapsed": true
   },
   "outputs": [],
   "source": [
    "# file locations\n",
    "file_in  = '201402_trip_data.csv'\n",
    "file_out = '201309_trip_data.csv'\n",
    "\n",
    "with open(file_out, 'w') as f_out, open(file_in, 'r') as f_in:\n",
    "    # set up csv reader and writer objects\n",
    "    in_reader = csv.reader(f_in)\n",
    "    out_writer = csv.writer(f_out)\n",
    "\n",
    "    # write rows from in-file to out-file until specified date reached\n",
    "    while True:\n",
    "        datarow = next(in_reader)\n",
    "        # trip start dates in 3rd column, m/d/yyyy HH:MM formats\n",
    "        if datarow[2][:9] == '10/1/2013':\n",
    "            break\n",
    "        out_writer.writerow(datarow)"
   ]
  },
  {
   "cell_type": "markdown",
   "metadata": {},
   "source": [
    "### Condensing the Trip Data\n",
    "\n",
    "The first step is to look at the structure of the dataset to see if there's any data wrangling we should perform. The below cell will read in the sampled data file that you created in the previous cell, and print out the first few rows of the table."
   ]
  },
  {
   "cell_type": "code",
   "execution_count": 4,
   "metadata": {},
   "outputs": [
    {
     "data": {
      "text/html": [
       "<div>\n",
       "<table border=\"1\" class=\"dataframe\">\n",
       "  <thead>\n",
       "    <tr style=\"text-align: right;\">\n",
       "      <th></th>\n",
       "      <th>Trip ID</th>\n",
       "      <th>Duration</th>\n",
       "      <th>Start Date</th>\n",
       "      <th>Start Station</th>\n",
       "      <th>Start Terminal</th>\n",
       "      <th>End Date</th>\n",
       "      <th>End Station</th>\n",
       "      <th>End Terminal</th>\n",
       "      <th>Bike #</th>\n",
       "      <th>Subscription Type</th>\n",
       "      <th>Zip Code</th>\n",
       "    </tr>\n",
       "  </thead>\n",
       "  <tbody>\n",
       "    <tr>\n",
       "      <th>0</th>\n",
       "      <td>4576</td>\n",
       "      <td>63</td>\n",
       "      <td>8/29/2013 14:13</td>\n",
       "      <td>South Van Ness at Market</td>\n",
       "      <td>66</td>\n",
       "      <td>8/29/2013 14:14</td>\n",
       "      <td>South Van Ness at Market</td>\n",
       "      <td>66</td>\n",
       "      <td>520</td>\n",
       "      <td>Subscriber</td>\n",
       "      <td>94127</td>\n",
       "    </tr>\n",
       "    <tr>\n",
       "      <th>1</th>\n",
       "      <td>4607</td>\n",
       "      <td>70</td>\n",
       "      <td>8/29/2013 14:42</td>\n",
       "      <td>San Jose City Hall</td>\n",
       "      <td>10</td>\n",
       "      <td>8/29/2013 14:43</td>\n",
       "      <td>San Jose City Hall</td>\n",
       "      <td>10</td>\n",
       "      <td>661</td>\n",
       "      <td>Subscriber</td>\n",
       "      <td>95138</td>\n",
       "    </tr>\n",
       "    <tr>\n",
       "      <th>2</th>\n",
       "      <td>4130</td>\n",
       "      <td>71</td>\n",
       "      <td>8/29/2013 10:16</td>\n",
       "      <td>Mountain View City Hall</td>\n",
       "      <td>27</td>\n",
       "      <td>8/29/2013 10:17</td>\n",
       "      <td>Mountain View City Hall</td>\n",
       "      <td>27</td>\n",
       "      <td>48</td>\n",
       "      <td>Subscriber</td>\n",
       "      <td>97214</td>\n",
       "    </tr>\n",
       "    <tr>\n",
       "      <th>3</th>\n",
       "      <td>4251</td>\n",
       "      <td>77</td>\n",
       "      <td>8/29/2013 11:29</td>\n",
       "      <td>San Jose City Hall</td>\n",
       "      <td>10</td>\n",
       "      <td>8/29/2013 11:30</td>\n",
       "      <td>San Jose City Hall</td>\n",
       "      <td>10</td>\n",
       "      <td>26</td>\n",
       "      <td>Subscriber</td>\n",
       "      <td>95060</td>\n",
       "    </tr>\n",
       "    <tr>\n",
       "      <th>4</th>\n",
       "      <td>4299</td>\n",
       "      <td>83</td>\n",
       "      <td>8/29/2013 12:02</td>\n",
       "      <td>South Van Ness at Market</td>\n",
       "      <td>66</td>\n",
       "      <td>8/29/2013 12:04</td>\n",
       "      <td>Market at 10th</td>\n",
       "      <td>67</td>\n",
       "      <td>319</td>\n",
       "      <td>Subscriber</td>\n",
       "      <td>94103</td>\n",
       "    </tr>\n",
       "  </tbody>\n",
       "</table>\n",
       "</div>"
      ],
      "text/plain": [
       "   Trip ID  Duration       Start Date             Start Station  \\\n",
       "0     4576        63  8/29/2013 14:13  South Van Ness at Market   \n",
       "1     4607        70  8/29/2013 14:42        San Jose City Hall   \n",
       "2     4130        71  8/29/2013 10:16   Mountain View City Hall   \n",
       "3     4251        77  8/29/2013 11:29        San Jose City Hall   \n",
       "4     4299        83  8/29/2013 12:02  South Van Ness at Market   \n",
       "\n",
       "   Start Terminal         End Date               End Station  End Terminal  \\\n",
       "0              66  8/29/2013 14:14  South Van Ness at Market            66   \n",
       "1              10  8/29/2013 14:43        San Jose City Hall            10   \n",
       "2              27  8/29/2013 10:17   Mountain View City Hall            27   \n",
       "3              10  8/29/2013 11:30        San Jose City Hall            10   \n",
       "4              66  8/29/2013 12:04            Market at 10th            67   \n",
       "\n",
       "   Bike # Subscription Type Zip Code  \n",
       "0     520        Subscriber    94127  \n",
       "1     661        Subscriber    95138  \n",
       "2      48        Subscriber    97214  \n",
       "3      26        Subscriber    95060  \n",
       "4     319        Subscriber    94103  "
      ]
     },
     "metadata": {},
     "output_type": "display_data"
    }
   ],
   "source": [
    "sample_data = pd.read_csv('201309_trip_data.csv')\n",
    "\n",
    "display(sample_data.head())"
   ]
  },
  {
   "cell_type": "markdown",
   "metadata": {},
   "source": [
    "In this exploration, we're going to concentrate on factors in the trip data that affect the number of trips that are taken. Let's focus down on a few selected columns: the trip duration, start time, start terminal, end terminal, and subscription type. Start time will be divided into year, month, and hour components. We will also add a column for the day of the week and abstract the start and end terminal to be the start and end _city_.\n",
    "\n",
    "Let's tackle the lattermost part of the wrangling process first. Run the below code cell to see how the station information is structured, then observe how the code will create the station-city mapping. Note that the station mapping is set up as a function, `create_station_mapping()`. Since it is possible that more stations are added or dropped over time, this function will allow us to combine the station information across all three parts of our data when we are ready to explore everything."
   ]
  },
  {
   "cell_type": "code",
   "execution_count": 5,
   "metadata": {},
   "outputs": [
    {
     "data": {
      "text/html": [
       "<div>\n",
       "<table border=\"1\" class=\"dataframe\">\n",
       "  <thead>\n",
       "    <tr style=\"text-align: right;\">\n",
       "      <th></th>\n",
       "      <th>station_id</th>\n",
       "      <th>name</th>\n",
       "      <th>lat</th>\n",
       "      <th>long</th>\n",
       "      <th>dockcount</th>\n",
       "      <th>landmark</th>\n",
       "      <th>installation</th>\n",
       "    </tr>\n",
       "  </thead>\n",
       "  <tbody>\n",
       "    <tr>\n",
       "      <th>0</th>\n",
       "      <td>2</td>\n",
       "      <td>San Jose Diridon Caltrain Station</td>\n",
       "      <td>37.329732</td>\n",
       "      <td>-121.901782</td>\n",
       "      <td>27</td>\n",
       "      <td>San Jose</td>\n",
       "      <td>8/6/2013</td>\n",
       "    </tr>\n",
       "    <tr>\n",
       "      <th>1</th>\n",
       "      <td>3</td>\n",
       "      <td>San Jose Civic Center</td>\n",
       "      <td>37.330698</td>\n",
       "      <td>-121.888979</td>\n",
       "      <td>15</td>\n",
       "      <td>San Jose</td>\n",
       "      <td>8/5/2013</td>\n",
       "    </tr>\n",
       "    <tr>\n",
       "      <th>2</th>\n",
       "      <td>4</td>\n",
       "      <td>Santa Clara at Almaden</td>\n",
       "      <td>37.333988</td>\n",
       "      <td>-121.894902</td>\n",
       "      <td>11</td>\n",
       "      <td>San Jose</td>\n",
       "      <td>8/6/2013</td>\n",
       "    </tr>\n",
       "    <tr>\n",
       "      <th>3</th>\n",
       "      <td>5</td>\n",
       "      <td>Adobe on Almaden</td>\n",
       "      <td>37.331415</td>\n",
       "      <td>-121.893200</td>\n",
       "      <td>19</td>\n",
       "      <td>San Jose</td>\n",
       "      <td>8/5/2013</td>\n",
       "    </tr>\n",
       "    <tr>\n",
       "      <th>4</th>\n",
       "      <td>6</td>\n",
       "      <td>San Pedro Square</td>\n",
       "      <td>37.336721</td>\n",
       "      <td>-121.894074</td>\n",
       "      <td>15</td>\n",
       "      <td>San Jose</td>\n",
       "      <td>8/7/2013</td>\n",
       "    </tr>\n",
       "  </tbody>\n",
       "</table>\n",
       "</div>"
      ],
      "text/plain": [
       "   station_id                               name        lat        long  \\\n",
       "0           2  San Jose Diridon Caltrain Station  37.329732 -121.901782   \n",
       "1           3              San Jose Civic Center  37.330698 -121.888979   \n",
       "2           4             Santa Clara at Almaden  37.333988 -121.894902   \n",
       "3           5                   Adobe on Almaden  37.331415 -121.893200   \n",
       "4           6                   San Pedro Square  37.336721 -121.894074   \n",
       "\n",
       "   dockcount  landmark installation  \n",
       "0         27  San Jose     8/6/2013  \n",
       "1         15  San Jose     8/5/2013  \n",
       "2         11  San Jose     8/6/2013  \n",
       "3         19  San Jose     8/5/2013  \n",
       "4         15  San Jose     8/7/2013  "
      ]
     },
     "metadata": {},
     "output_type": "display_data"
    }
   ],
   "source": [
    "# Display the first few rows of the station data file.\n",
    "station_info = pd.read_csv('201402_station_data.csv')\n",
    "display(station_info.head())\n",
    "\n",
    "# This function will be called by another function later on to create the mapping.\n",
    "def create_station_mapping(station_data):\n",
    "    \"\"\"\n",
    "    Create a mapping from station IDs to cities, returning the\n",
    "    result as a dictionary.\n",
    "    \"\"\"\n",
    "    station_map = {}\n",
    "    for data_file in station_data:\n",
    "        with open(data_file, 'r') as f_in:\n",
    "            # set up csv reader object - note that we are using DictReader, which\n",
    "            # takes the first row of the file as a header row for each row's\n",
    "            # dictionary keys\n",
    "            weather_reader = csv.DictReader(f_in)\n",
    "\n",
    "            for row in weather_reader:\n",
    "                station_map[row['station_id']] = row['landmark']\n",
    "    return station_map"
   ]
  },
  {
   "cell_type": "markdown",
   "metadata": {},
   "source": [
    "You can now use the mapping to condense the trip data to the selected columns noted above. This will be performed in the `summarise_data()` function below. As part of this function, the `datetime` module is used to **p**arse the timestamp strings from the original data file as datetime objects (`strptime`), which can then be output in a different string **f**ormat (`strftime`). The parsed objects also have a variety of attributes and methods to quickly obtain\n",
    "\n",
    "There are two tasks that you will need to complete to finish the `summarise_data()` function. First, you should perform an operation to convert the trip durations from being in terms of seconds to being in terms of minutes. (There are 60 seconds in a minute.) Secondly, you will need to create the columns for the year, month, hour, and day of the week. Take a look at the [documentation for datetime objects in the datetime module](https://docs.python.org/2/library/datetime.html#datetime-objects). **Find the appropriate attributes and method to complete the below code.**"
   ]
  },
  {
   "cell_type": "code",
   "execution_count": 6,
   "metadata": {},
   "outputs": [],
   "source": [
    "def summarise_data(trip_in, station_data, trip_out):\n",
    "    \"\"\"\n",
    "    This function takes trip and station information and outputs a new\n",
    "    data file with a condensed summary of major trip information. The\n",
    "    trip_in and station_data arguments will be lists of data files for\n",
    "    the trip and station information, respectively, while trip_out\n",
    "    specifies the location to which the summarized data will be written.\n",
    "    \"\"\"\n",
    "    # generate dictionary of station - city mapping\n",
    "    station_map = create_station_mapping(station_data)\n",
    "    \n",
    "    with open(trip_out, 'w') as f_out:\n",
    "        # set up csv writer object        \n",
    "        out_colnames = ['duration', 'start_date', 'start_year',\n",
    "                        'start_month', 'start_hour', 'weekday',\n",
    "                        'start_city', 'end_city', 'subscription_type']        \n",
    "        trip_writer = csv.DictWriter(f_out, fieldnames = out_colnames)\n",
    "        trip_writer.writeheader()\n",
    "        \n",
    "        for data_file in trip_in:\n",
    "            with open(data_file, 'r') as f_in:\n",
    "                # set up csv reader object\n",
    "                trip_reader = csv.DictReader(f_in)\n",
    "\n",
    "                # collect data from and process each row\n",
    "                for row in trip_reader:\n",
    "                    new_point = {}\n",
    "                    \n",
    "                    # convert duration units from seconds to minutes\n",
    "                    ### Question 3a: Add a mathematical operation below   ###\n",
    "                    ### to convert durations from seconds to minutes.     ###\n",
    "                    new_point['duration'] = float(row['Duration'])/60 ### ________\n",
    "                    \n",
    "                    # reformat datestrings into multiple columns\n",
    "                    ### Question 3b: Fill in the blanks below to generate ###\n",
    "                    ### the expected time values.                         ###\n",
    "                    trip_date = datetime.strptime(row['Start Date'], '%m/%d/%Y %H:%M')\n",
    "                    new_point['start_date']  = trip_date.strftime('%Y-%m-%d')\n",
    "                    new_point['start_year']  = trip_date.strftime('%Y') # __\n",
    "                    new_point['start_month'] = trip_date.strftime('%m') # __\n",
    "                    new_point['start_hour']  = trip_date.strftime('%H') # __\n",
    "                    new_point['weekday']     = trip_date.strftime('%A') # __\n",
    "                    \n",
    "                    # remap start and end terminal with start and end city\n",
    "                    new_point['start_city'] = station_map[row['Start Terminal']]\n",
    "                    new_point['end_city'] = station_map[row['End Terminal']]\n",
    "                    # two different column names for subscribers depending on file\n",
    "                    if 'Subscription Type' in row:\n",
    "                        new_point['subscription_type'] = row['Subscription Type']\n",
    "                    else:\n",
    "                        new_point['subscription_type'] = row['Subscriber Type']\n",
    "\n",
    "                    # write the processed information to the output file.\n",
    "                    trip_writer.writerow(new_point)"
   ]
  },
  {
   "cell_type": "markdown",
   "metadata": {},
   "source": [
    "**Question 3**: Run the below code block to call the `summarise_data()` function you finished in the above cell. It will take the data contained in the files listed in the `trip_in` and `station_data` variables, and write a new file at the location specified in the `trip_out` variable. If you've performed the data wrangling correctly, the below code block will print out the first few lines of the dataframe and a message verifying that the data point counts are correct."
   ]
  },
  {
   "cell_type": "code",
   "execution_count": 7,
   "metadata": {},
   "outputs": [
    {
     "data": {
      "text/html": [
       "<div>\n",
       "<table border=\"1\" class=\"dataframe\">\n",
       "  <thead>\n",
       "    <tr style=\"text-align: right;\">\n",
       "      <th></th>\n",
       "      <th>duration</th>\n",
       "      <th>start_date</th>\n",
       "      <th>start_year</th>\n",
       "      <th>start_month</th>\n",
       "      <th>start_hour</th>\n",
       "      <th>weekday</th>\n",
       "      <th>start_city</th>\n",
       "      <th>end_city</th>\n",
       "      <th>subscription_type</th>\n",
       "    </tr>\n",
       "  </thead>\n",
       "  <tbody>\n",
       "    <tr>\n",
       "      <th>0</th>\n",
       "      <td>1.050000</td>\n",
       "      <td>2013-08-29</td>\n",
       "      <td>2013</td>\n",
       "      <td>8</td>\n",
       "      <td>14</td>\n",
       "      <td>Thursday</td>\n",
       "      <td>San Francisco</td>\n",
       "      <td>San Francisco</td>\n",
       "      <td>Subscriber</td>\n",
       "    </tr>\n",
       "    <tr>\n",
       "      <th>1</th>\n",
       "      <td>1.166667</td>\n",
       "      <td>2013-08-29</td>\n",
       "      <td>2013</td>\n",
       "      <td>8</td>\n",
       "      <td>14</td>\n",
       "      <td>Thursday</td>\n",
       "      <td>San Jose</td>\n",
       "      <td>San Jose</td>\n",
       "      <td>Subscriber</td>\n",
       "    </tr>\n",
       "    <tr>\n",
       "      <th>2</th>\n",
       "      <td>1.183333</td>\n",
       "      <td>2013-08-29</td>\n",
       "      <td>2013</td>\n",
       "      <td>8</td>\n",
       "      <td>10</td>\n",
       "      <td>Thursday</td>\n",
       "      <td>Mountain View</td>\n",
       "      <td>Mountain View</td>\n",
       "      <td>Subscriber</td>\n",
       "    </tr>\n",
       "    <tr>\n",
       "      <th>3</th>\n",
       "      <td>1.283333</td>\n",
       "      <td>2013-08-29</td>\n",
       "      <td>2013</td>\n",
       "      <td>8</td>\n",
       "      <td>11</td>\n",
       "      <td>Thursday</td>\n",
       "      <td>San Jose</td>\n",
       "      <td>San Jose</td>\n",
       "      <td>Subscriber</td>\n",
       "    </tr>\n",
       "    <tr>\n",
       "      <th>4</th>\n",
       "      <td>1.383333</td>\n",
       "      <td>2013-08-29</td>\n",
       "      <td>2013</td>\n",
       "      <td>8</td>\n",
       "      <td>12</td>\n",
       "      <td>Thursday</td>\n",
       "      <td>San Francisco</td>\n",
       "      <td>San Francisco</td>\n",
       "      <td>Subscriber</td>\n",
       "    </tr>\n",
       "  </tbody>\n",
       "</table>\n",
       "</div>"
      ],
      "text/plain": [
       "   duration  start_date  start_year  start_month  start_hour   weekday  \\\n",
       "0  1.050000  2013-08-29        2013            8          14  Thursday   \n",
       "1  1.166667  2013-08-29        2013            8          14  Thursday   \n",
       "2  1.183333  2013-08-29        2013            8          10  Thursday   \n",
       "3  1.283333  2013-08-29        2013            8          11  Thursday   \n",
       "4  1.383333  2013-08-29        2013            8          12  Thursday   \n",
       "\n",
       "      start_city       end_city subscription_type  \n",
       "0  San Francisco  San Francisco        Subscriber  \n",
       "1       San Jose       San Jose        Subscriber  \n",
       "2  Mountain View  Mountain View        Subscriber  \n",
       "3       San Jose       San Jose        Subscriber  \n",
       "4  San Francisco  San Francisco        Subscriber  "
      ]
     },
     "metadata": {},
     "output_type": "display_data"
    },
    {
     "name": "stdout",
     "output_type": "stream",
     "text": [
      "All counts are as expected!\n"
     ]
    }
   ],
   "source": [
    "# Process the data by running the function we wrote above.\n",
    "station_data = ['201402_station_data.csv']\n",
    "trip_in = ['201309_trip_data.csv']\n",
    "trip_out = '201309_trip_summary.csv'\n",
    "summarise_data(trip_in, station_data, trip_out)\n",
    "\n",
    "# Load in the data file and print out the first few rows\n",
    "sample_data = pd.read_csv(trip_out)\n",
    "display(sample_data.head())\n",
    "\n",
    "# Verify the dataframe by counting data points matching each of the time features.\n",
    "question_3(sample_data)"
   ]
  },
  {
   "cell_type": "markdown",
   "metadata": {},
   "source": [
    "> **Tip**: If you save a jupyter Notebook, the output from running code blocks will also be saved. However, the state of your workspace will be reset once a new session is started. Make sure that you run all of the necessary code blocks from your previous session to reestablish variables and functions before picking up where you last left off.\n",
    "\n",
    "## Exploratory Data Analysis\n",
    "\n",
    "Now that you have some data saved to a file, let's look at some initial trends in the data. Some code has already been written for you in the `babs_visualizations.py` script to help summarize and visualize the data; this has been imported as the functions `usage_stats()` and `usage_plot()`. In this section we'll walk through some of the things you can do with the functions, and you'll use the functions for yourself in the last part of the project. First, run the following cell to load the data, then use the `usage_stats()` function to see the total number of trips made in the first month of operations, along with some statistics regarding how long trips took."
   ]
  },
  {
   "cell_type": "code",
   "execution_count": 8,
   "metadata": {},
   "outputs": [
    {
     "name": "stdout",
     "output_type": "stream",
     "text": [
      "There are 27345 data points in the dataset.\n",
      "The average duration of trips is 27.60 minutes.\n",
      "The median trip duration is 10.72 minutes.\n",
      "25% of trips are shorter than 6.82 minutes.\n",
      "25% of trips are longer than 17.28 minutes.\n"
     ]
    },
    {
     "data": {
      "text/plain": [
       "array([  6.81666667,  10.71666667,  17.28333333])"
      ]
     },
     "execution_count": 8,
     "metadata": {},
     "output_type": "execute_result"
    }
   ],
   "source": [
    "trip_data = pd.read_csv('201309_trip_summary.csv')\n",
    "\n",
    "usage_stats(trip_data)"
   ]
  },
  {
   "cell_type": "markdown",
   "metadata": {},
   "source": [
    "You should see that there are over 27,000 trips in the first month, and that the average trip duration is larger than the median trip duration (the point where 50% of trips are shorter, and 50% are longer). In fact, the mean is larger than the 75% shortest durations. This will be interesting to look at later on.\n",
    "\n",
    "Let's start looking at how those trips are divided by subscription type. One easy way to build an intuition about the data is to plot it. We'll use the `usage_plot()` function for this. The second argument of the function allows us to count up the trips across a selected variable, displaying the information in a plot. The expression below will show how many customer and how many subscriber trips were made. Try it out!"
   ]
  },
  {
   "cell_type": "code",
   "execution_count": 9,
   "metadata": {},
   "outputs": [
    {
     "data": {
      "image/png": "[encoded data removed]",
      "text/plain": [
       "<matplotlib.figure.Figure at 0xcd90b00>"
      ]
     },
     "metadata": {},
     "output_type": "display_data"
    }
   ],
   "source": [
    "usage_plot(trip_data, 'subscription_type')"
   ]
  },
  {
   "cell_type": "markdown",
   "metadata": {},
   "source": [
    "Seems like there's about 50% more trips made by subscribers in the first month than customers. Let's try a different variable now. What does the distribution of trip durations look like?"
   ]
  },
  {
   "cell_type": "code",
   "execution_count": 10,
   "metadata": {},
   "outputs": [
    {
     "data": {
      "image/png": "[encoded data removed]",
      "text/plain": [
       "<matplotlib.figure.Figure at 0xd088b70>"
      ]
     },
     "metadata": {},
     "output_type": "display_data"
    }
   ],
   "source": [
    "usage_plot(trip_data, 'duration')"
   ]
  },
  {
   "cell_type": "markdown",
   "metadata": {},
   "source": [
    "Looks pretty strange, doesn't it? Take a look at the duration values on the x-axis. Most rides are expected to be 30 minutes or less, since there are overage charges for taking extra time in a single trip. The first bar spans durations up to about 1000 minutes, or over 16 hours. Based on the statistics we got out of `usage_stats()`, we should have expected some trips with very long durations that bring the average to be so much higher than the median: the plot shows this in a dramatic, but unhelpful way.\n",
    "\n",
    "When exploring the data, you will often need to work with visualization function parameters in order to make the data easier to understand. Here's where the third argument of the `usage_plot()` function comes in. Filters can be set for data points as a list of conditions. Let's start by limiting things to trips of less than 60 minutes."
   ]
  },
  {
   "cell_type": "code",
   "execution_count": 11,
   "metadata": {},
   "outputs": [
    {
     "data": {
      "image/png": "[encoded data removed]",
      "text/plain": [
       "<matplotlib.figure.Figure at 0xd0aa208>"
      ]
     },
     "metadata": {},
     "output_type": "display_data"
    }
   ],
   "source": [
    "usage_plot(trip_data, 'duration', ['duration < 60'])"
   ]
  },
  {
   "cell_type": "markdown",
   "metadata": {},
   "source": [
    "This is looking better! You can see that most trips are indeed less than 30 minutes in length, but there's more that you can do to improve the presentation. Since the minimum duration is not 0, the left hand bar is slighly above 0. We want to be able to tell where there is a clear boundary at 30 minutes, so it will look nicer if we have bin sizes and bin boundaries that correspond to some number of minutes. Fortunately, you can use the optional \"boundary\" and \"bin_width\" parameters to adjust the plot. By setting \"boundary\" to 0, one of the bin edges (in this case the left-most bin) will start at 0 rather than the minimum trip duration. And by setting \"bin_width\" to 5, each bar will count up data points in five-minute intervals."
   ]
  },
  {
   "cell_type": "code",
   "execution_count": 12,
   "metadata": {},
   "outputs": [
    {
     "data": {
      "image/png": "[encoded data removed]",
      "text/plain": [
       "<matplotlib.figure.Figure at 0xd2f3e10>"
      ]
     },
     "metadata": {},
     "output_type": "display_data"
    }
   ],
   "source": [
    "usage_plot(trip_data, 'duration', ['duration < 60'], boundary = 0, bin_width = 5)"
   ]
  },
  {
   "cell_type": "markdown",
   "metadata": {},
   "source": [
    "**Question 4**: Which five-minute trip duration shows the most number of trips? Approximately how many trips were made in this range?\n",
    "\n",
    "**Answer**: The 5-to-10-minute trip duration shows the most number of trips with about 9,200 trips."
   ]
  },
  {
   "cell_type": "markdown",
   "metadata": {
    "collapsed": true
   },
   "source": [
    "Visual adjustments like this might be small, but they can go a long way in helping you understand the data and convey your findings to others.\n",
    "\n",
    "## Performing Your Own Analysis\n",
    "\n",
    "Now that you've done some exploration on a small sample of the dataset, it's time to go ahead and put together all of the data in a single file and see what trends you can find. The code below will use the same `summarise_data()` function as before to process data. After running the cell below, you'll have processed all the data into a single data file. Note that the function will not display any output while it runs, and this can take a while to complete since you have much more data than the sample you worked with above."
   ]
  },
  {
   "cell_type": "code",
   "execution_count": 13,
   "metadata": {},
   "outputs": [],
   "source": [
    "station_data = ['201402_station_data.csv',\n",
    "                '201408_station_data.csv',\n",
    "                '201508_station_data.csv' ]\n",
    "trip_in = ['201402_trip_data.csv',\n",
    "           '201408_trip_data.csv',\n",
    "           '201508_trip_data.csv' ]\n",
    "trip_out = 'babs_y1_y2_summary.csv'\n",
    "\n",
    "# This function will take in the station data and trip data and\n",
    "# write out a new data file to the name listed above in trip_out.\n",
    "summarise_data(trip_in, station_data, trip_out)"
   ]
  },
  {
   "cell_type": "markdown",
   "metadata": {},
   "source": [
    "Since the `summarise_data()` function has created a standalone file, the above cell will not need to be run a second time, even if you close the notebook and start a new session. You can just load in the dataset and then explore things from there."
   ]
  },
  {
   "cell_type": "code",
   "execution_count": 14,
   "metadata": {},
   "outputs": [
    {
     "data": {
      "text/html": [
       "<div>\n",
       "<table border=\"1\" class=\"dataframe\">\n",
       "  <thead>\n",
       "    <tr style=\"text-align: right;\">\n",
       "      <th></th>\n",
       "      <th>duration</th>\n",
       "      <th>start_date</th>\n",
       "      <th>start_year</th>\n",
       "      <th>start_month</th>\n",
       "      <th>start_hour</th>\n",
       "      <th>weekday</th>\n",
       "      <th>start_city</th>\n",
       "      <th>end_city</th>\n",
       "      <th>subscription_type</th>\n",
       "    </tr>\n",
       "  </thead>\n",
       "  <tbody>\n",
       "    <tr>\n",
       "      <th>0</th>\n",
       "      <td>1.050000</td>\n",
       "      <td>2013-08-29</td>\n",
       "      <td>2013</td>\n",
       "      <td>8</td>\n",
       "      <td>14</td>\n",
       "      <td>Thursday</td>\n",
       "      <td>San Francisco</td>\n",
       "      <td>San Francisco</td>\n",
       "      <td>Subscriber</td>\n",
       "    </tr>\n",
       "    <tr>\n",
       "      <th>1</th>\n",
       "      <td>1.166667</td>\n",
       "      <td>2013-08-29</td>\n",
       "      <td>2013</td>\n",
       "      <td>8</td>\n",
       "      <td>14</td>\n",
       "      <td>Thursday</td>\n",
       "      <td>San Jose</td>\n",
       "      <td>San Jose</td>\n",
       "      <td>Subscriber</td>\n",
       "    </tr>\n",
       "    <tr>\n",
       "      <th>2</th>\n",
       "      <td>1.183333</td>\n",
       "      <td>2013-08-29</td>\n",
       "      <td>2013</td>\n",
       "      <td>8</td>\n",
       "      <td>10</td>\n",
       "      <td>Thursday</td>\n",
       "      <td>Mountain View</td>\n",
       "      <td>Mountain View</td>\n",
       "      <td>Subscriber</td>\n",
       "    </tr>\n",
       "    <tr>\n",
       "      <th>3</th>\n",
       "      <td>1.283333</td>\n",
       "      <td>2013-08-29</td>\n",
       "      <td>2013</td>\n",
       "      <td>8</td>\n",
       "      <td>11</td>\n",
       "      <td>Thursday</td>\n",
       "      <td>San Jose</td>\n",
       "      <td>San Jose</td>\n",
       "      <td>Subscriber</td>\n",
       "    </tr>\n",
       "    <tr>\n",
       "      <th>4</th>\n",
       "      <td>1.383333</td>\n",
       "      <td>2013-08-29</td>\n",
       "      <td>2013</td>\n",
       "      <td>8</td>\n",
       "      <td>12</td>\n",
       "      <td>Thursday</td>\n",
       "      <td>San Francisco</td>\n",
       "      <td>San Francisco</td>\n",
       "      <td>Subscriber</td>\n",
       "    </tr>\n",
       "  </tbody>\n",
       "</table>\n",
       "</div>"
      ],
      "text/plain": [
       "   duration  start_date  start_year  start_month  start_hour   weekday  \\\n",
       "0  1.050000  2013-08-29        2013            8          14  Thursday   \n",
       "1  1.166667  2013-08-29        2013            8          14  Thursday   \n",
       "2  1.183333  2013-08-29        2013            8          10  Thursday   \n",
       "3  1.283333  2013-08-29        2013            8          11  Thursday   \n",
       "4  1.383333  2013-08-29        2013            8          12  Thursday   \n",
       "\n",
       "      start_city       end_city subscription_type  \n",
       "0  San Francisco  San Francisco        Subscriber  \n",
       "1       San Jose       San Jose        Subscriber  \n",
       "2  Mountain View  Mountain View        Subscriber  \n",
       "3       San Jose       San Jose        Subscriber  \n",
       "4  San Francisco  San Francisco        Subscriber  "
      ]
     },
     "metadata": {},
     "output_type": "display_data"
    }
   ],
   "source": [
    "trip_data = pd.read_csv('babs_y1_y2_summary.csv')\n",
    "display(trip_data.head())"
   ]
  },
  {
   "cell_type": "markdown",
   "metadata": {},
   "source": [
    "#### Now it's your turn to explore the new dataset with `usage_stats()` and `usage_plot()` and report your findings! Here's a refresher on how to use the `usage_plot()` function:\n",
    "- first argument (required): loaded dataframe from which data will be analyzed.\n",
    "- second argument (required): variable on which trip counts will be divided.\n",
    "- third argument (optional): data filters limiting the data points that will be counted. Filters should be given as a list of conditions, each element should be a string in the following format: `'<field> <op> <value>'` using one of the following operations: >, <, >=, <=, ==, !=. Data points must satisfy all conditions to be counted or visualized. For example, `[\"duration < 15\", \"start_city == 'San Francisco'\"]` retains only trips that originated in San Francisco and are less than 15 minutes long.\n",
    "\n",
    "If data is being split on a numeric variable (thus creating a histogram), some additional parameters may be set by keyword.\n",
    "- \"n_bins\" specifies the number of bars in the resultant plot (default is 10).\n",
    "- \"bin_width\" specifies the width of each bar (default divides the range of the data by number of bins). \"n_bins\" and \"bin_width\" cannot be used simultaneously.\n",
    "- \"boundary\" specifies where one of the bar edges will be placed; other bar edges will be placed around that value (this may result in an additional bar being plotted). This argument may be used alongside the \"n_bins\" and \"bin_width\" arguments.\n",
    "\n",
    "You can also add some customization to the `usage_stats()` function as well. The second argument of the function can be used to set up filter conditions, just like how they are set up in `usage_plot()`."
   ]
  },
  {
   "cell_type": "code",
   "execution_count": 15,
   "metadata": {},
   "outputs": [
    {
     "name": "stdout",
     "output_type": "stream",
     "text": [
      "There are 669959 data points in the dataset.\n",
      "The average duration of trips is 18.47 minutes.\n",
      "The median trip duration is 8.62 minutes.\n",
      "25% of trips are shorter than 5.73 minutes.\n",
      "25% of trips are longer than 12.58 minutes.\n"
     ]
    },
    {
     "data": {
      "text/plain": [
       "array([  5.73333333,   8.61666667,  12.58333333])"
      ]
     },
     "execution_count": 15,
     "metadata": {},
     "output_type": "execute_result"
    }
   ],
   "source": [
    "usage_stats(trip_data)"
   ]
  },
  {
   "cell_type": "code",
   "execution_count": 20,
   "metadata": {},
   "outputs": [],
   "source": [
    "usage_plot(trip_data)"
   ]
  },
  {
   "cell_type": "markdown",
   "metadata": {},
   "source": [
    "Explore some different variables using the functions above and take note of some trends you find. Feel free to create additional cells if you want to explore the dataset in other ways or multiple ways.\n",
    "\n",
    "> **Tip**: In order to add additional cells to a notebook, you can use the \"Insert Cell Above\" and \"Insert Cell Below\" options from the menu bar above. There is also an icon in the toolbar for adding new cells, with additional icons for moving the cells up and down the document. By default, new cells are of the code type; you can also specify the cell type (e.g. Code or Markdown) of selected cells from the Cell menu or the dropdown in the toolbar.\n",
    "\n",
    "One you're done with your explorations, copy the two visualizations you found most interesting into the cells below, then answer the following questions with a few sentences describing what you found and why you selected the figures. Make sure that you adjust the number of bins or the bin limits so that they effectively convey data findings. Feel free to supplement this with any additional numbers generated from `usage_stats()` or place multiple visualizations to support your observations."
   ]
  },
  {
   "cell_type": "code",
   "execution_count": 18,
   "metadata": {},
   "outputs": [
    {
     "data": {
      "image/png": "[encoded data removed]",
      "text/plain": [
       "<matplotlib.figure.Figure at 0xe47ad30>"
      ]
     },
     "metadata": {},
     "output_type": "display_data"
    }
   ],
   "source": [
    "# Final Plot 1\n",
    "usage_plot(trip_data, 'weekday')"
   ]
  },
  {
   "cell_type": "markdown",
   "metadata": {},
   "source": [
    "**Question 5a**: What is interesting about the above visualization? Why did you select it?\n",
    "\n",
    "**Answer**: Weekend bike rides average is less than half of weekday's average at about 40,000 vs. 11,500 rides per week. This finding along with previous finding on Subscriber having more rides than Customers indicates most users are users or planned users. I am noticing that Friday's and Monday's numbers are slighly lower that those of Tuesday through Thursday. This is possibly due to people preferred day to telecommute or vacation days. "
   ]
  },
  {
   "cell_type": "code",
   "execution_count": 19,
   "metadata": {},
   "outputs": [
    {
     "data": {
      "image/png": "[encoded data removed]",
      "text/plain": [
       "<matplotlib.figure.Figure at 0xe1e83c8>"
      ]
     },
     "metadata": {},
     "output_type": "display_data"
    }
   ],
   "source": [
    "# Final Plot 2\n",
    "usage_plot(trip_data, 'start_hour', boundary = 0, bin_width = 1)"
   ]
  },
  {
   "cell_type": "markdown",
   "metadata": {},
   "source": [
    "**Question 5b**: What is interesting about the above visualization? Why did you select it?\n",
    "\n",
    "**Answer**: Bike ride numbers peak around commute hours and slightly peak at lunch time. I suspect these peaks to be more dominant if we filtered out weekend days. This finding furhter supports people's planned behavior for bike ride and utilizing these bike rides for work and possibly schooling commutes. The hour-by-hour usage provides a high-level picture on when the bicycles are highly demanded, better times to provide maintenance service, and pricing structure opportunities for higher profits."
   ]
  },
  {
   "cell_type": "markdown",
   "metadata": {},
   "source": [
    "## Conclusions\n",
    "\n",
    "Congratulations on completing the project! This is only a sampling of the data analysis process: from generating questions, wrangling the data, and to exploring the data. Normally, at this point in the data analysis process, you might want to draw conclusions about our data by performing a statistical test or fitting the data to a model for making predictions. There are also a lot of potential analyses that could be performed on the data which are not possible with only the code given. Instead of just looking at number of trips on the outcome axis, you could see what features affect things like trip duration. We also haven't looked at how the weather data ties into bike usage.\n",
    "\n",
    "**Question 6**: Think of a topic or field of interest where you would like to be able to apply the techniques of data science. What would you like to be able to learn from your chosen subject?\n",
    "\n",
    "**Answer**: I would like to apply these techniques in analyzing distracting deriving issues (especially texting while driving), hoping to reduce such frequencies and its related accidents. I would like to know what works to reduce distracting driving occurance. \"What works\" should cover knowledge about its dangers, best advertising techniques, smart phone apps, or simple regulations. We also realize important factors may differ between different segments of populated (e.g. different age groups, educational levels) \n",
    "\n",
    "> **Tip**: If we want to share the results of our analysis with others, we aren't limited to giving them a copy of the jupyter Notebook (.ipynb) file. We can also export the Notebook output in a form that can be opened even for those without Python installed. From the **File** menu in the upper left, go to the **Download as** submenu. You can then choose a different format that can be viewed more generally, such as HTML (.html) or\n",
    "PDF (.pdf). You may need additional packages or software to perform these exports."
   ]
  }
 ],
 "metadata": {
  "anaconda-cloud": {},
  "kernelspec": {
   "display_name": "Python 2",
   "language": "python",
   "name": "python2"
  },
  "language_info": {
   "codemirror_mode": {
    "name": "ipython",
    "version": 2
   },
   "file_extension": ".py",
   "mimetype": "text/x-python",
   "name": "python",
   "nbconvert_exporter": "python",
   "pygments_lexer": "ipython2",
   "version": "2.7.13"
  }
 },
 "nbformat": 4,
 "nbformat_minor": 1
}
